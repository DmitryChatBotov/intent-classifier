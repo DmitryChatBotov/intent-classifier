{
 "cells": [
  {
   "cell_type": "code",
   "execution_count": 1,
   "id": "2ea586f5-76ea-41bf-9209-31551a591093",
   "metadata": {
    "editable": true,
    "slideshow": {
     "slide_type": ""
    },
    "tags": []
   },
   "outputs": [],
   "source": [
    "%load_ext autoreload\n",
    "%autoreload 2"
   ]
  },
  {
   "cell_type": "markdown",
   "id": "d6571824-e1f9-4d3f-be02-0ec9202ac4d6",
   "metadata": {},
   "source": [
    "## Импорт библиотек"
   ]
  },
  {
   "cell_type": "code",
   "execution_count": 2,
   "id": "88c41c41-f076-4191-9187-4e8dfebff3e3",
   "metadata": {},
   "outputs": [],
   "source": [
    "import os\n",
    "import sys\n",
    "\n",
    "import pandas as pd\n",
    "import plotly\n",
    "import plotly.express as px\n",
    "from qdrant_client import QdrantClient\n",
    "from qdrant_client.models import Distance, PointStruct, SearchParams, VectorParams\n",
    "from rich.progress import track\n",
    "from sentence_transformers import SentenceTransformer\n",
    "from sklearn.metrics import accuracy_score\n",
    "\n",
    "sys.path.append(os.path.pardir)\n",
    "\n",
    "from project_consts import PROJECT_ROOT"
   ]
  },
  {
   "cell_type": "markdown",
   "id": "9c483768-586c-444f-bf37-4ab5a04e79e9",
   "metadata": {},
   "source": [
    "###  Подключаем wandb"
   ]
  },
  {
   "cell_type": "code",
   "execution_count": 3,
   "id": "5a37a184-6f70-4cbe-b125-c47100dc6f77",
   "metadata": {},
   "outputs": [
    {
     "name": "stderr",
     "output_type": "stream",
     "text": [
      "\u001b[34m\u001b[1mwandb\u001b[0m: Currently logged in as: \u001b[33malica154323\u001b[0m (\u001b[33mstarminalush\u001b[0m). Use \u001b[1m`wandb login --relogin`\u001b[0m to force relogin\n"
     ]
    },
    {
     "data": {
      "text/plain": [
       "True"
      ]
     },
     "execution_count": 3,
     "metadata": {},
     "output_type": "execute_result"
    }
   ],
   "source": [
    "import wandb\n",
    "wandb.login()"
   ]
  },
  {
   "cell_type": "code",
   "execution_count": 4,
   "id": "d5ebf175-1b15-4d43-aca2-4498d761cfda",
   "metadata": {},
   "outputs": [
    {
     "data": {
      "text/html": [
       "Tracking run with wandb version 0.16.6"
      ],
      "text/plain": [
       "<IPython.core.display.HTML object>"
      ]
     },
     "metadata": {},
     "output_type": "display_data"
    },
    {
     "data": {
      "text/html": [
       "Run data is saved locally in <code>/Users/starminalush/study/intent-classifier/notebooks/wandb/run-20240429_205456-ajjpysr1</code>"
      ],
      "text/plain": [
       "<IPython.core.display.HTML object>"
      ]
     },
     "metadata": {},
     "output_type": "display_data"
    },
    {
     "data": {
      "text/html": [
       "Syncing run <strong><a href='https://wandb.ai/starminalush/intents_classifier/runs/ajjpysr1' target=\"_blank\">labse-base-qdrant</a></strong> to <a href='https://wandb.ai/starminalush/intents_classifier' target=\"_blank\">Weights & Biases</a> (<a href='https://wandb.me/run' target=\"_blank\">docs</a>)<br/>"
      ],
      "text/plain": [
       "<IPython.core.display.HTML object>"
      ]
     },
     "metadata": {},
     "output_type": "display_data"
    },
    {
     "data": {
      "text/html": [
       " View project at <a href='https://wandb.ai/starminalush/intents_classifier' target=\"_blank\">https://wandb.ai/starminalush/intents_classifier</a>"
      ],
      "text/plain": [
       "<IPython.core.display.HTML object>"
      ]
     },
     "metadata": {},
     "output_type": "display_data"
    },
    {
     "data": {
      "text/html": [
       " View run at <a href='https://wandb.ai/starminalush/intents_classifier/runs/ajjpysr1' target=\"_blank\">https://wandb.ai/starminalush/intents_classifier/runs/ajjpysr1</a>"
      ],
      "text/plain": [
       "<IPython.core.display.HTML object>"
      ]
     },
     "metadata": {},
     "output_type": "display_data"
    },
    {
     "data": {
      "text/html": [
       "<button onClick=\"this.nextSibling.style.display='block';this.style.display='none';\">Display W&B run</button><iframe src='https://wandb.ai/starminalush/intents_classifier/runs/ajjpysr1?jupyter=true' style='border:none;width:100%;height:420px;display:none;'></iframe>"
      ],
      "text/plain": [
       "<wandb.sdk.wandb_run.Run at 0x312c19030>"
      ]
     },
     "execution_count": 4,
     "metadata": {},
     "output_type": "execute_result"
    }
   ],
   "source": [
    "wandb.init(\n",
    "    # set the wandb project where this run will be logged\n",
    "    project=\"intents_classifier\",\n",
    "    name='labse-base-qdrant'\n",
    ")"
   ]
  },
  {
   "cell_type": "markdown",
   "id": "9bda1648-0bcf-4f45-a228-1d5122245e7a",
   "metadata": {},
   "source": [
    "##  Константы"
   ]
  },
  {
   "cell_type": "code",
   "execution_count": 5,
   "id": "7b5fbed5-88f5-4b24-b38c-63ca08219dba",
   "metadata": {},
   "outputs": [],
   "source": [
    "FILE_NAME = \"intents_chat_bot_pervaya_lin-1000067115-HTA.json\"\n",
    "RAW_DATA_PATH = os.path.join(PROJECT_ROOT, \"data\", \"raw\", FILE_NAME)\n",
    "PROCESSED_FOLDER_PATH = os.path.join(PROJECT_ROOT, \"data\", \"processed\")\n",
    "VALIDATION_DATA_PATH = os.path.join(PROJECT_ROOT, \"data\", \"raw\", \"sravni_dataset.xlsx\")"
   ]
  },
  {
   "cell_type": "markdown",
   "id": "e4e2a466-55c7-41e2-9236-842b1f96c01d",
   "metadata": {},
   "source": [
    "## Получение данных"
   ]
  },
  {
   "cell_type": "code",
   "execution_count": 6,
   "id": "29d9dbf9-83f4-4ce2-b3d9-631953a14d55",
   "metadata": {},
   "outputs": [
    {
     "data": {
      "text/html": [
       "<div>\n",
       "<style scoped>\n",
       "    .dataframe tbody tr th:only-of-type {\n",
       "        vertical-align: middle;\n",
       "    }\n",
       "\n",
       "    .dataframe tbody tr th {\n",
       "        vertical-align: top;\n",
       "    }\n",
       "\n",
       "    .dataframe thead th {\n",
       "        text-align: right;\n",
       "    }\n",
       "</style>\n",
       "<table border=\"1\" class=\"dataframe\">\n",
       "  <thead>\n",
       "    <tr style=\"text-align: right;\">\n",
       "      <th></th>\n",
       "      <th>intent_id</th>\n",
       "      <th>intent_path</th>\n",
       "      <th>phrase</th>\n",
       "    </tr>\n",
       "  </thead>\n",
       "  <tbody>\n",
       "    <tr>\n",
       "      <th>0</th>\n",
       "      <td>24174474</td>\n",
       "      <td>/Пересекающиеся/Продлить полис</td>\n",
       "      <td>продлить полис осаго</td>\n",
       "    </tr>\n",
       "    <tr>\n",
       "      <th>1</th>\n",
       "      <td>24174474</td>\n",
       "      <td>/Пересекающиеся/Продлить полис</td>\n",
       "      <td>мне нужно продлить полис</td>\n",
       "    </tr>\n",
       "    <tr>\n",
       "      <th>2</th>\n",
       "      <td>24174474</td>\n",
       "      <td>/Пересекающиеся/Продлить полис</td>\n",
       "      <td>нам нужно продлить полис страхования</td>\n",
       "    </tr>\n",
       "    <tr>\n",
       "      <th>3</th>\n",
       "      <td>24174474</td>\n",
       "      <td>/Пересекающиеся/Продлить полис</td>\n",
       "      <td>каким образом я могу продлить полис осаго от</td>\n",
       "    </tr>\n",
       "    <tr>\n",
       "      <th>4</th>\n",
       "      <td>24174474</td>\n",
       "      <td>/Пересекающиеся/Продлить полис</td>\n",
       "      <td>помогите продлить страховку</td>\n",
       "    </tr>\n",
       "  </tbody>\n",
       "</table>\n",
       "</div>"
      ],
      "text/plain": [
       "   intent_id                     intent_path  \\\n",
       "0   24174474  /Пересекающиеся/Продлить полис   \n",
       "1   24174474  /Пересекающиеся/Продлить полис   \n",
       "2   24174474  /Пересекающиеся/Продлить полис   \n",
       "3   24174474  /Пересекающиеся/Продлить полис   \n",
       "4   24174474  /Пересекающиеся/Продлить полис   \n",
       "\n",
       "                                         phrase  \n",
       "0                          продлить полис осаго  \n",
       "1                      мне нужно продлить полис  \n",
       "2          нам нужно продлить полис страхования  \n",
       "3  каким образом я могу продлить полис осаго от  \n",
       "4                   помогите продлить страховку  "
      ]
     },
     "execution_count": 6,
     "metadata": {},
     "output_type": "execute_result"
    }
   ],
   "source": [
    "intents_df = pd.read_json(os.path.join(PROCESSED_FOLDER_PATH, \"intents_prepared.json\"))\n",
    "intents_df.head()"
   ]
  },
  {
   "cell_type": "markdown",
   "id": "cf420173-3d50-4c1f-ab1b-01a421f33fa4",
   "metadata": {},
   "source": [
    "### Визуализация"
   ]
  },
  {
   "cell_type": "code",
   "execution_count": 7,
   "id": "cf3ade87-c17b-44e3-b079-b45d9188feaf",
   "metadata": {},
   "outputs": [],
   "source": [
    "def visualize_dist(df: pd.DataFrame, column_name: str, graph_filename: str) -> None:\n",
    "    fig = px.histogram(df, y=column_name).update_yaxes(categoryorder=\"total ascending\")\n",
    "    fig.update_layout(yaxis={\"dtick\":1},margin={\"t\":100,\"b\":100},height=len(df[column_name].unique())*11)\n",
    "    fig.write_html(graph_filename)\n",
    "    plotly.offline.plot(fig, filename=graph_filename)"
   ]
  },
  {
   "cell_type": "code",
   "execution_count": 8,
   "id": "4d520f2b-1cb6-4292-bdf3-d7d72e1ed3c9",
   "metadata": {
    "editable": true,
    "slideshow": {
     "slide_type": ""
    },
    "tags": []
   },
   "outputs": [],
   "source": [
    "visualize_dist(\n",
    "    intents_df, \"intent_path\", os.path.join(PROJECT_ROOT, \"reports/intents.html\")\n",
    ")"
   ]
  },
  {
   "cell_type": "markdown",
   "id": "392b9a76-444a-4b7f-83c8-4d5f33fb4c5c",
   "metadata": {},
   "source": [
    "##  Векторизация"
   ]
  },
  {
   "cell_type": "code",
   "execution_count": 9,
   "id": "c780907b-d525-493e-8502-e06a3f421e29",
   "metadata": {},
   "outputs": [],
   "source": [
    "model = SentenceTransformer(\"sentence-transformers/LaBSE\", cache_folder=\"./hfmodels\")"
   ]
  },
  {
   "cell_type": "code",
   "execution_count": 10,
   "id": "b589b763-037c-43b9-9686-77d4f0499e7d",
   "metadata": {},
   "outputs": [
    {
     "name": "stderr",
     "output_type": "stream",
     "text": [
      "/var/folders/t7/0zcbppxn02b4wfhmpbfg0f2m0000gn/T/ipykernel_2259/3783581583.py:2: DeprecationWarning:\n",
      "\n",
      "`recreate_collection` method is deprecated and will be removed in the future. Use `collection_exists` to check collection existence and `create_collection` instead.\n",
      "\n"
     ]
    },
    {
     "data": {
      "text/plain": [
       "True"
      ]
     },
     "execution_count": 10,
     "metadata": {},
     "output_type": "execute_result"
    }
   ],
   "source": [
    "client = QdrantClient(url=\"http://localhost:6333\")\n",
    "client.recreate_collection(\n",
    "    collection_name=\"intents_collection\",\n",
    "    vectors_config=VectorParams(\n",
    "        size=model.get_sentence_embedding_dimension(), distance=Distance.COSINE\n",
    "    ),\n",
    ")"
   ]
  },
  {
   "cell_type": "markdown",
   "id": "5f713647-a6b3-4d19-8e0c-a8083ffbd8d8",
   "metadata": {},
   "source": [
    "Заполняем базу векторами"
   ]
  },
  {
   "cell_type": "code",
   "execution_count": 11,
   "id": "20525dcc-f8e7-4685-983d-3cd6cb05d541",
   "metadata": {},
   "outputs": [
    {
     "data": {
      "application/vnd.jupyter.widget-view+json": {
       "model_id": "b5231805c25e4f359ac1b15fb0c43a01",
       "version_major": 2,
       "version_minor": 0
      },
      "text/plain": [
       "Output()"
      ]
     },
     "metadata": {},
     "output_type": "display_data"
    },
    {
     "data": {
      "text/html": [
       "<pre style=\"white-space:pre;overflow-x:auto;line-height:normal;font-family:Menlo,'DejaVu Sans Mono',consolas,'Courier New',monospace\"></pre>\n"
      ],
      "text/plain": []
     },
     "metadata": {},
     "output_type": "display_data"
    },
    {
     "data": {
      "text/html": [
       "<pre style=\"white-space:pre;overflow-x:auto;line-height:normal;font-family:Menlo,'DejaVu Sans Mono',consolas,'Courier New',monospace\">\n",
       "</pre>\n"
      ],
      "text/plain": [
       "\n"
      ]
     },
     "metadata": {},
     "output_type": "display_data"
    }
   ],
   "source": [
    "client.upload_points(\n",
    "    collection_name=\"intents_collection\",\n",
    "    points=[\n",
    "        PointStruct(\n",
    "            id=idx,\n",
    "            vector=model.encode(row[\"phrase\"]),\n",
    "            payload={\"intent_path\": row[\"intent_path\"]},\n",
    "        )\n",
    "        for idx, row in track(\n",
    "            intents_df.iterrows(),\n",
    "            description=\"Upload emb to qdrant...\",\n",
    "            total=len(intents_df),\n",
    "        )\n",
    "    ],\n",
    ")"
   ]
  },
  {
   "cell_type": "markdown",
   "id": "d27e3050-ab6d-4a4f-8ff7-8af1d2bee672",
   "metadata": {},
   "source": [
    "##  Поиск интентов"
   ]
  },
  {
   "cell_type": "code",
   "execution_count": 12,
   "id": "31a431e4-6742-450b-b877-a1186969b7b4",
   "metadata": {},
   "outputs": [
    {
     "data": {
      "text/html": [
       "<div>\n",
       "<style scoped>\n",
       "    .dataframe tbody tr th:only-of-type {\n",
       "        vertical-align: middle;\n",
       "    }\n",
       "\n",
       "    .dataframe tbody tr th {\n",
       "        vertical-align: top;\n",
       "    }\n",
       "\n",
       "    .dataframe thead th {\n",
       "        text-align: right;\n",
       "    }\n",
       "</style>\n",
       "<table border=\"1\" class=\"dataframe\">\n",
       "  <thead>\n",
       "    <tr style=\"text-align: right;\">\n",
       "      <th></th>\n",
       "      <th>testCase</th>\n",
       "      <th>comment</th>\n",
       "      <th>request</th>\n",
       "      <th>expectedResponse</th>\n",
       "      <th>expectedState</th>\n",
       "      <th>skip</th>\n",
       "      <th>preActions</th>\n",
       "    </tr>\n",
       "  </thead>\n",
       "  <tbody>\n",
       "    <tr>\n",
       "      <th>0</th>\n",
       "      <td>1</td>\n",
       "      <td>/Системные/Сценарии для оператора/Перевод сраз...</td>\n",
       "      <td>Прошу убрать из рассылок любого характера мой ...</td>\n",
       "      <td>NaN</td>\n",
       "      <td>/Сценарии для оператора Перевод сразу</td>\n",
       "      <td>NaN</td>\n",
       "      <td>NaN</td>\n",
       "    </tr>\n",
       "    <tr>\n",
       "      <th>1</th>\n",
       "      <td>2</td>\n",
       "      <td>/Кредиты-займы/Почему просроченный платеж</td>\n",
       "      <td>Здравствуйте. Я брал займ в мфо через приложен...</td>\n",
       "      <td>NaN</td>\n",
       "      <td>/ChatWithOperatorMfo</td>\n",
       "      <td>NaN</td>\n",
       "      <td>NaN</td>\n",
       "    </tr>\n",
       "    <tr>\n",
       "      <th>2</th>\n",
       "      <td>3</td>\n",
       "      <td>/Сравни ру/Внести изменения/Как изменить сведе...</td>\n",
       "      <td>Добрый день. Я оформила полис ОСАГО на вашем с...</td>\n",
       "      <td>NaN</td>\n",
       "      <td>/Внесение изменений/Полис</td>\n",
       "      <td>NaN</td>\n",
       "      <td>NaN</td>\n",
       "    </tr>\n",
       "    <tr>\n",
       "      <th>3</th>\n",
       "      <td>4</td>\n",
       "      <td>/Пересекающиеся/Не пришёл полис</td>\n",
       "      <td>Два дня назад оплатил осаго, через сравни ру д...</td>\n",
       "      <td>NaN</td>\n",
       "      <td>/Не пришёл полис</td>\n",
       "      <td>NaN</td>\n",
       "      <td>NaN</td>\n",
       "    </tr>\n",
       "    <tr>\n",
       "      <th>4</th>\n",
       "      <td>5</td>\n",
       "      <td>/Кредиты-займы/Закрыть кредит</td>\n",
       "      <td>Здравствуйте, я через вас взял займ в миг кред...</td>\n",
       "      <td>NaN</td>\n",
       "      <td>/ChatWithOperatorMfo</td>\n",
       "      <td>NaN</td>\n",
       "      <td>NaN</td>\n",
       "    </tr>\n",
       "  </tbody>\n",
       "</table>\n",
       "</div>"
      ],
      "text/plain": [
       "   testCase                                            comment  \\\n",
       "0         1  /Системные/Сценарии для оператора/Перевод сраз...   \n",
       "1         2          /Кредиты-займы/Почему просроченный платеж   \n",
       "2         3  /Сравни ру/Внести изменения/Как изменить сведе...   \n",
       "3         4                    /Пересекающиеся/Не пришёл полис   \n",
       "4         5                      /Кредиты-займы/Закрыть кредит   \n",
       "\n",
       "                                             request  expectedResponse  \\\n",
       "0  Прошу убрать из рассылок любого характера мой ...               NaN   \n",
       "1  Здравствуйте. Я брал займ в мфо через приложен...               NaN   \n",
       "2  Добрый день. Я оформила полис ОСАГО на вашем с...               NaN   \n",
       "3  Два дня назад оплатил осаго, через сравни ру д...               NaN   \n",
       "4  Здравствуйте, я через вас взял займ в миг кред...               NaN   \n",
       "\n",
       "                           expectedState  skip  preActions  \n",
       "0  /Сценарии для оператора Перевод сразу   NaN         NaN  \n",
       "1                   /ChatWithOperatorMfo   NaN         NaN  \n",
       "2              /Внесение изменений/Полис   NaN         NaN  \n",
       "3                       /Не пришёл полис   NaN         NaN  \n",
       "4                   /ChatWithOperatorMfo   NaN         NaN  "
      ]
     },
     "execution_count": 12,
     "metadata": {},
     "output_type": "execute_result"
    }
   ],
   "source": [
    "validation_df = pd.read_excel(VALIDATION_DATA_PATH)\n",
    "validation_df.head(5)"
   ]
  },
  {
   "cell_type": "code",
   "execution_count": 13,
   "id": "5689acd8-5d2c-4662-9b17-ec92bdda910f",
   "metadata": {},
   "outputs": [],
   "source": [
    "validation_df[\"comment\"] = validation_df[\"comment\"].apply(lambda x: x.strip())"
   ]
  },
  {
   "cell_type": "code",
   "execution_count": 14,
   "id": "4d083f8b-dac1-42be-8a1a-2c6078de61b8",
   "metadata": {},
   "outputs": [
    {
     "name": "stderr",
     "output_type": "stream",
     "text": [
      "huggingface/tokenizers: The current process just got forked, after parallelism has already been used. Disabling parallelism to avoid deadlocks...\n",
      "To disable this warning, you can either:\n",
      "\t- Avoid using `tokenizers` before the fork if possible\n",
      "\t- Explicitly set the environment variable TOKENIZERS_PARALLELISM=(true | false)\n"
     ]
    }
   ],
   "source": [
    "visualize_dist(\n",
    "    validation_df,\n",
    "    \"comment\",\n",
    "    os.path.join(PROJECT_ROOT, \"reports/validation_intents.html\"),\n",
    ")"
   ]
  },
  {
   "cell_type": "code",
   "execution_count": 15,
   "id": "f568aa73-15d2-4e97-8dd1-02594b842240",
   "metadata": {},
   "outputs": [],
   "source": [
    "class VectorClassifier:\n",
    "    def __init__(self, vector_model, vector_store):\n",
    "        self._vector_model = vector_model\n",
    "        self._vector_store = vector_store\n",
    "\n",
    "    def classify(self, text, k=5) -> str:\n",
    "        embedding = self._vector_model.encode(text)\n",
    "        # find top 5\n",
    "\n",
    "        knn_result = self._vector_store.search(\n",
    "            collection_name=\"intents_collection\",\n",
    "            query_vector=embedding,\n",
    "            limit=1,\n",
    "            search_params=SearchParams(\n",
    "                exact=True,  # Turns on the exact search mode\n",
    "            ),\n",
    "        )[0]\n",
    "\n",
    "        return knn_result.payload.get(\"intent_path\"), knn_result.score"
   ]
  },
  {
   "cell_type": "code",
   "execution_count": 16,
   "id": "7f2d3476-aba2-4ee2-958e-b233c3b2da57",
   "metadata": {},
   "outputs": [
    {
     "data": {
      "text/plain": [
       "('/Системные/Сценарии для оператора/Перевод сразу/Отписаться от рассылки',\n",
       " 0.7035544)"
      ]
     },
     "execution_count": 16,
     "metadata": {},
     "output_type": "execute_result"
    }
   ],
   "source": [
    "classifier = VectorClassifier(vector_model=model, vector_store=client)\n",
    "classifier.classify(validation_df.iloc[0][\"request\"])"
   ]
  },
  {
   "cell_type": "code",
   "execution_count": 17,
   "id": "dbc90429-51b0-4a1d-a56c-1c9e9adda9bf",
   "metadata": {},
   "outputs": [],
   "source": [
    "validation_df[\"model_predict\"] = validation_df.apply(\n",
    "    lambda x: classifier.classify(x[\"request\"])[0], axis=1\n",
    ")"
   ]
  },
  {
   "cell_type": "code",
   "execution_count": 18,
   "id": "e1b59306-f6a4-4f7b-8b0c-4b975c4b415c",
   "metadata": {},
   "outputs": [
    {
     "data": {
      "text/plain": [
       "0.3569230769230769"
      ]
     },
     "execution_count": 18,
     "metadata": {},
     "output_type": "execute_result"
    }
   ],
   "source": [
    "accuracy = accuracy_score(validation_df[\"comment\"], validation_df[\"model_predict\"])\n",
    "accuracy"
   ]
  },
  {
   "cell_type": "markdown",
   "id": "a82eb0d5-8e07-48a9-b2d0-f68ee74050ca",
   "metadata": {},
   "source": [
    "## Логирование данных"
   ]
  },
  {
   "cell_type": "code",
   "execution_count": 20,
   "id": "b44431b6-2fd5-44ed-868d-96ae5e468e19",
   "metadata": {},
   "outputs": [],
   "source": [
    "#логируем метрику\n",
    "wandb.log({'accuracy': accuracy}"
   ]
  },
  {
   "cell_type": "code",
   "execution_count": 22,
   "id": "02cb868c-2a19-48ce-a75d-2ce3f08bd2d9",
   "metadata": {},
   "outputs": [],
   "source": [
    "#логируем график\n",
    "wandb.log({\"train_intents\": wandb.Html(open(os.path.join(PROJECT_ROOT, 'reports', 'intents.html')))})\n",
    "wandb.log({\"validation_intents\": wandb.Html(open(os.path.join(PROJECT_ROOT, 'reports', 'validation_intents.html')))})"
   ]
  },
  {
   "cell_type": "code",
   "execution_count": 26,
   "id": "4b3862c0-7ca4-4dbb-96fb-f76194d247b7",
   "metadata": {},
   "outputs": [
    {
     "name": "stderr",
     "output_type": "stream",
     "text": [
      "huggingface/tokenizers: The current process just got forked, after parallelism has already been used. Disabling parallelism to avoid deadlocks...\n",
      "To disable this warning, you can either:\n",
      "\t- Avoid using `tokenizers` before the fork if possible\n",
      "\t- Explicitly set the environment variable TOKENIZERS_PARALLELISM=(true | false)\n"
     ]
    }
   ],
   "source": [
    "#логируем датасет с неправильно распознанными интентами на валидации\n",
    "error_intents = validation_df[validation_df['comment'] != validation_df['model_predict']]\n",
    "error_intents.reset_index()\n",
    "wandb.log({'error_intents': wandb.Table(dataframe=error_intents)})"
   ]
  },
  {
   "cell_type": "code",
   "execution_count": 27,
   "id": "8013205e-8470-4b8c-b1f9-4a378630ed8b",
   "metadata": {},
   "outputs": [
    {
     "data": {
      "application/vnd.jupyter.widget-view+json": {
       "model_id": "",
       "version_major": 2,
       "version_minor": 0
      },
      "text/plain": [
       "VBox(children=(Label(value='12.813 MB of 12.813 MB uploaded\\r'), FloatProgress(value=1.0, max=1.0)))"
      ]
     },
     "metadata": {},
     "output_type": "display_data"
    },
    {
     "data": {
      "text/html": [
       "<style>\n",
       "    table.wandb td:nth-child(1) { padding: 0 10px; text-align: left ; width: auto;} td:nth-child(2) {text-align: left ; width: 100%}\n",
       "    .wandb-row { display: flex; flex-direction: row; flex-wrap: wrap; justify-content: flex-start; width: 100% }\n",
       "    .wandb-col { display: flex; flex-direction: column; flex-basis: 100%; flex: 1; padding: 10px; }\n",
       "    </style>\n",
       "<div class=\"wandb-row\"><div class=\"wandb-col\"><h3>Run history:</h3><br/><table class=\"wandb\"><tr><td>accuracy</td><td>▁</td></tr></table><br/></div><div class=\"wandb-col\"><h3>Run summary:</h3><br/><table class=\"wandb\"><tr><td>accuracy</td><td>0.35692</td></tr></table><br/></div></div>"
      ],
      "text/plain": [
       "<IPython.core.display.HTML object>"
      ]
     },
     "metadata": {},
     "output_type": "display_data"
    },
    {
     "data": {
      "text/html": [
       " View run <strong style=\"color:#cdcd00\">labse-base-qdrant</strong> at: <a href='https://wandb.ai/starminalush/intents_classifier/runs/ajjpysr1' target=\"_blank\">https://wandb.ai/starminalush/intents_classifier/runs/ajjpysr1</a><br/> View project at: <a href='https://wandb.ai/starminalush/intents_classifier' target=\"_blank\">https://wandb.ai/starminalush/intents_classifier</a><br/>Synced 5 W&B file(s), 4 media file(s), 3 artifact file(s) and 0 other file(s)"
      ],
      "text/plain": [
       "<IPython.core.display.HTML object>"
      ]
     },
     "metadata": {},
     "output_type": "display_data"
    },
    {
     "data": {
      "text/html": [
       "Find logs at: <code>./wandb/run-20240429_205456-ajjpysr1/logs</code>"
      ],
      "text/plain": [
       "<IPython.core.display.HTML object>"
      ]
     },
     "metadata": {},
     "output_type": "display_data"
    }
   ],
   "source": [
    "wandb.finish()"
   ]
  }
 ],
 "metadata": {
  "kernelspec": {
   "display_name": "Python 3 (ipykernel)",
   "language": "python",
   "name": "python3"
  },
  "language_info": {
   "codemirror_mode": {
    "name": "ipython",
    "version": 3
   },
   "file_extension": ".py",
   "mimetype": "text/x-python",
   "name": "python",
   "nbconvert_exporter": "python",
   "pygments_lexer": "ipython3",
   "version": "3.10.5"
  }
 },
 "nbformat": 4,
 "nbformat_minor": 5
}
